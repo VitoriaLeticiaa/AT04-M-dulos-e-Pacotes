{
  "nbformat": 4,
  "nbformat_minor": 0,
  "metadata": {
    "colab": {
      "provenance": [],
      "authorship_tag": "ABX9TyNjtlIjS4mLa01VhpZ2N+eo",
      "include_colab_link": true
    },
    "kernelspec": {
      "name": "python3",
      "display_name": "Python 3"
    },
    "language_info": {
      "name": "python"
    }
  },
  "cells": [
    {
      "cell_type": "markdown",
      "metadata": {
        "id": "view-in-github",
        "colab_type": "text"
      },
      "source": [
        "<a href=\"https://colab.research.google.com/github/VitoriaLeticiaa/AT04-M-dulos-e-Pacotes/blob/main/Atividade.ipynb\" target=\"_parent\"><img src=\"https://colab.research.google.com/assets/colab-badge.svg\" alt=\"Open In Colab\"/></a>"
      ]
    },
    {
      "cell_type": "code",
      "execution_count": 3,
      "metadata": {
        "colab": {
          "base_uri": "https://localhost:8080/"
        },
        "id": "yrD6JS8ACB0O",
        "outputId": "9c24cb9d-637f-484c-d77e-e3ed1db4514e"
      },
      "outputs": [
        {
          "output_type": "stream",
          "name": "stdout",
          "text": [
            "15\n",
            "15.0\n"
          ]
        }
      ],
      "source": [
        "import statistics\n",
        "\n",
        "k = [2,4,6,8,10,12,14,16,18,20,22,24,26,28]\n",
        "\n",
        "t = statistics.mean(k)\n",
        "\n",
        "h = statistics.median(k)\n",
        "\n",
        "print(t)\n",
        "print(h)\n",
        "\n",
        "\n"
      ]
    },
    {
      "cell_type": "code",
      "source": [
        "import statistics as est\n",
        "\n",
        "k = [2,4,6,8,10,12,14,16,18,20,22,24,26,28]\n",
        "\n",
        "t = est.mean(k)\n",
        "\n",
        "h = est.median(k)\n",
        "\n",
        "print(t)\n",
        "print(h)\n"
      ],
      "metadata": {
        "colab": {
          "base_uri": "https://localhost:8080/"
        },
        "id": "XRArdSoXCwOP",
        "outputId": "08e5ed78-e74a-44c4-d80f-033a371fbda8"
      },
      "execution_count": 5,
      "outputs": [
        {
          "output_type": "stream",
          "name": "stdout",
          "text": [
            "15\n",
            "15.0\n"
          ]
        }
      ]
    },
    {
      "cell_type": "code",
      "source": [
        "from statistics import mean, median\n",
        "\n",
        "k = [2,4,6,8,10,12,14,16,18,20,22,24,26,28]\n",
        "\n",
        "t = mean(k)\n",
        "\n",
        "h = median(k)\n",
        "\n",
        "print(t)\n",
        "print(h)"
      ],
      "metadata": {
        "colab": {
          "base_uri": "https://localhost:8080/"
        },
        "id": "4PGKWoZuDLPd",
        "outputId": "42e603fd-43a8-4d00-bf34-6ee2541a0506"
      },
      "execution_count": 6,
      "outputs": [
        {
          "output_type": "stream",
          "name": "stdout",
          "text": [
            "15\n",
            "15.0\n"
          ]
        }
      ]
    },
    {
      "cell_type": "code",
      "source": [
        "from statistics import *\n",
        "\n",
        "k = [2,4,6,8,10,12,14,16,18,20,22,24,26,28]\n",
        "\n",
        "t = mean(k)\n",
        "\n",
        "h = median(k)\n",
        "\n",
        "print(t)\n",
        "print(h)"
      ],
      "metadata": {
        "colab": {
          "base_uri": "https://localhost:8080/"
        },
        "id": "6630GPiDDiq8",
        "outputId": "dae30d9e-15fc-432f-86c3-30c35f6c463a"
      },
      "execution_count": 7,
      "outputs": [
        {
          "output_type": "stream",
          "name": "stdout",
          "text": [
            "15\n",
            "15.0\n"
          ]
        }
      ]
    }
  ]
}